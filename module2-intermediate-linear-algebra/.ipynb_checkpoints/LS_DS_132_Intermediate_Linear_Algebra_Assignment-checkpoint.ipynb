{
 "cells": [
  {
   "cell_type": "markdown",
   "metadata": {
    "colab_type": "text",
    "id": "GSNiYn8lr6nN"
   },
   "source": [
    "# Statistics"
   ]
  },
  {
   "cell_type": "markdown",
   "metadata": {
    "colab_type": "text",
    "id": "3d4izUhQvh2_"
   },
   "source": [
    "## 1.1 Sales for the past week was the following amounts: [3505, 2400, 3027, 2798, 3700, 3250, 2689]. Without using library functions, what is the mean, variance, and standard deviation of of sales from last week? (for extra bonus points, write your own function that can calculate these two values for any sized list)"
   ]
  },
  {
   "cell_type": "code",
   "execution_count": 1,
   "metadata": {
    "colab": {},
    "colab_type": "code",
    "id": "w1iZfYvBtEA1"
   },
   "outputs": [],
   "source": [
    "import pandas as pd\n",
    "import numpy as np\n",
    "import matplotlib.pyplot as plt\n",
    "from typing import List\n",
    "from random import shuffle"
   ]
  },
  {
   "cell_type": "code",
   "execution_count": 2,
   "metadata": {
    "colab": {},
    "colab_type": "code",
    "id": "tCzoAWtp6EMn"
   },
   "outputs": [],
   "source": [
    "nums = [3505, 2400, 3027, 2798, 3700, 3250, 2689]"
   ]
  },
  {
   "cell_type": "code",
   "execution_count": 3,
   "metadata": {
    "colab": {},
    "colab_type": "code",
    "id": "aSCGUzq59Ryi"
   },
   "outputs": [],
   "source": [
    "def get_sum(numbers: List):\n",
    "  sum_ = 0\n",
    "  for number in numbers:\n",
    "    sum_ += number\n",
    "\n",
    "  return sum_"
   ]
  },
  {
   "cell_type": "code",
   "execution_count": 4,
   "metadata": {
    "colab": {},
    "colab_type": "code",
    "id": "Pe3lmkYQ6KJE"
   },
   "outputs": [],
   "source": [
    "def get_mean(numbers):\n",
    "\n",
    "\n",
    "  return get_sum(numbers) / len(numbers)"
   ]
  },
  {
   "cell_type": "code",
   "execution_count": 5,
   "metadata": {
    "colab": {
     "base_uri": "https://localhost:8080/",
     "height": 35
    },
    "colab_type": "code",
    "id": "TwOABnKk6luq",
    "outputId": "f2efa2ed-3d7a-4035-e926-09c439b017a9"
   },
   "outputs": [
    {
     "data": {
      "text/plain": [
       "3052.714285714286"
      ]
     },
     "execution_count": 5,
     "metadata": {},
     "output_type": "execute_result"
    }
   ],
   "source": [
    "get_mean(nums)"
   ]
  },
  {
   "cell_type": "code",
   "execution_count": 6,
   "metadata": {
    "colab": {},
    "colab_type": "code",
    "id": "XyG-6SSf7cxh"
   },
   "outputs": [],
   "source": [
    "def get_sum_difference(numbers, mean = None):\n",
    "  if not mean:\n",
    "    mean = get_mean(numbers)\n",
    "  sum_squared_diff = 0\n",
    "  for number in numbers:\n",
    "    diff = number - mean\n",
    "    sum_squared_diff += diff ** 2\n",
    "  \n",
    "  return sum_squared_diff"
   ]
  },
  {
   "cell_type": "code",
   "execution_count": 7,
   "metadata": {
    "colab": {},
    "colab_type": "code",
    "id": "hiHYgNoQABcJ"
   },
   "outputs": [],
   "source": [
    "def get_variance(numbers):\n",
    "  return get_sum_difference(numbers) / (len(numbers) - 1)"
   ]
  },
  {
   "cell_type": "code",
   "execution_count": 8,
   "metadata": {
    "colab": {
     "base_uri": "https://localhost:8080/",
     "height": 35
    },
    "colab_type": "code",
    "id": "UjTiIJX6AGQV",
    "outputId": "a0a7ed09-dda3-4c5b-c80b-2934de6b4a67"
   },
   "outputs": [
    {
     "data": {
      "text/plain": [
       "214387.90476190473"
      ]
     },
     "execution_count": 8,
     "metadata": {},
     "output_type": "execute_result"
    }
   ],
   "source": [
    "get_variance(nums)"
   ]
  },
  {
   "cell_type": "code",
   "execution_count": 9,
   "metadata": {
    "colab": {},
    "colab_type": "code",
    "id": "Ss1dLQ86BdVe"
   },
   "outputs": [],
   "source": [
    "def get_std(numbers):\n",
    "  return get_variance(numbers) ** (1/2)"
   ]
  },
  {
   "cell_type": "code",
   "execution_count": 10,
   "metadata": {
    "colab": {
     "base_uri": "https://localhost:8080/",
     "height": 35
    },
    "colab_type": "code",
    "id": "Rw-gp9FTCHKE",
    "outputId": "836e4a68-9849-4d45-9aab-46d8551dba26"
   },
   "outputs": [
    {
     "data": {
      "text/plain": [
       "463.0204150595357"
      ]
     },
     "execution_count": 10,
     "metadata": {},
     "output_type": "execute_result"
    }
   ],
   "source": [
    "get_std(nums)"
   ]
  },
  {
   "cell_type": "markdown",
   "metadata": {
    "colab_type": "text",
    "id": "oh63KaOctEp_"
   },
   "source": [
    "## 1.2 Find the covariance between last week's sales numbers and the number of customers that entered the store last week: [127, 80, 105, 92, 120, 115, 93] (you may use librray functions for calculating the covariance since we didn't specifically talk about its formula)"
   ]
  },
  {
   "cell_type": "code",
   "execution_count": 11,
   "metadata": {
    "colab": {},
    "colab_type": "code",
    "id": "G7ZB0krot564"
   },
   "outputs": [],
   "source": [
    "nums2 = [127, 80, 105, 92, 120, 115, 93]"
   ]
  },
  {
   "cell_type": "code",
   "execution_count": 12,
   "metadata": {
    "colab": {
     "base_uri": "https://localhost:8080/",
     "height": 54
    },
    "colab_type": "code",
    "id": "N0zUh1LnDgSM",
    "outputId": "f8286228-6bec-49e3-fd23-ab6f90cabf1d"
   },
   "outputs": [
    {
     "data": {
      "text/plain": [
       "array([[214387.9047619 ,   7604.35714286],\n",
       "       [  7604.35714286,    290.95238095]])"
      ]
     },
     "execution_count": 12,
     "metadata": {},
     "output_type": "execute_result"
    }
   ],
   "source": [
    "np.cov(nums, nums2)"
   ]
  },
  {
   "cell_type": "markdown",
   "metadata": {
    "colab_type": "text",
    "id": "J9SbUY9mt66I"
   },
   "source": [
    "## 1.3 Find the standard deviation of customers who entered the store last week. Then, use the standard deviations of both sales and customers to standardize the covariance to find the correlation coefficient that summarizes the relationship between sales and customers. (You may use library functions to check your work.)"
   ]
  },
  {
   "cell_type": "code",
   "execution_count": 13,
   "metadata": {
    "colab": {},
    "colab_type": "code",
    "id": "vFJms2YRrKhY"
   },
   "outputs": [],
   "source": [
    "customers_std = get_std(nums2)\n",
    "sales_std = get_std(nums)"
   ]
  },
  {
   "cell_type": "code",
   "execution_count": 14,
   "metadata": {
    "colab": {
     "base_uri": "https://localhost:8080/",
     "height": 35
    },
    "colab_type": "code",
    "id": "YZzuAF0AHGgM",
    "outputId": "7cda36ea-16f9-41d3-9a1f-21d12ebdfa93"
   },
   "outputs": [
    {
     "data": {
      "text/plain": [
       "0.9628339778148909"
      ]
     },
     "execution_count": 14,
     "metadata": {},
     "output_type": "execute_result"
    }
   ],
   "source": [
    "corr = np.cov(nums,nums2)[0][1] / (customers_std * sales_std)\n",
    "corr"
   ]
  },
  {
   "cell_type": "code",
   "execution_count": 15,
   "metadata": {
    "colab": {},
    "colab_type": "code",
    "id": "AQfu-kA6HTiT"
   },
   "outputs": [],
   "source": [
    "weeks_df = pd.DataFrame({1:nums, 2:nums2})"
   ]
  },
  {
   "cell_type": "code",
   "execution_count": 16,
   "metadata": {
    "colab": {
     "base_uri": "https://localhost:8080/",
     "height": 269
    },
    "colab_type": "code",
    "id": "npJF7RXBHoEr",
    "outputId": "be9f1856-4592-48f2-e927-e3e089891726"
   },
   "outputs": [
    {
     "data": {
      "text/html": [
       "<div>\n",
       "<style scoped>\n",
       "    .dataframe tbody tr th:only-of-type {\n",
       "        vertical-align: middle;\n",
       "    }\n",
       "\n",
       "    .dataframe tbody tr th {\n",
       "        vertical-align: top;\n",
       "    }\n",
       "\n",
       "    .dataframe thead th {\n",
       "        text-align: right;\n",
       "    }\n",
       "</style>\n",
       "<table border=\"1\" class=\"dataframe\">\n",
       "  <thead>\n",
       "    <tr style=\"text-align: right;\">\n",
       "      <th></th>\n",
       "      <th>1</th>\n",
       "      <th>2</th>\n",
       "    </tr>\n",
       "  </thead>\n",
       "  <tbody>\n",
       "    <tr>\n",
       "      <th>0</th>\n",
       "      <td>3505</td>\n",
       "      <td>127</td>\n",
       "    </tr>\n",
       "    <tr>\n",
       "      <th>1</th>\n",
       "      <td>2400</td>\n",
       "      <td>80</td>\n",
       "    </tr>\n",
       "    <tr>\n",
       "      <th>2</th>\n",
       "      <td>3027</td>\n",
       "      <td>105</td>\n",
       "    </tr>\n",
       "    <tr>\n",
       "      <th>3</th>\n",
       "      <td>2798</td>\n",
       "      <td>92</td>\n",
       "    </tr>\n",
       "    <tr>\n",
       "      <th>4</th>\n",
       "      <td>3700</td>\n",
       "      <td>120</td>\n",
       "    </tr>\n",
       "    <tr>\n",
       "      <th>5</th>\n",
       "      <td>3250</td>\n",
       "      <td>115</td>\n",
       "    </tr>\n",
       "    <tr>\n",
       "      <th>6</th>\n",
       "      <td>2689</td>\n",
       "      <td>93</td>\n",
       "    </tr>\n",
       "  </tbody>\n",
       "</table>\n",
       "</div>"
      ],
      "text/plain": [
       "      1    2\n",
       "0  3505  127\n",
       "1  2400   80\n",
       "2  3027  105\n",
       "3  2798   92\n",
       "4  3700  120\n",
       "5  3250  115\n",
       "6  2689   93"
      ]
     },
     "execution_count": 16,
     "metadata": {},
     "output_type": "execute_result"
    }
   ],
   "source": [
    "weeks_df"
   ]
  },
  {
   "cell_type": "code",
   "execution_count": 17,
   "metadata": {
    "colab": {
     "base_uri": "https://localhost:8080/",
     "height": 112
    },
    "colab_type": "code",
    "id": "dnSTWJOhIqAH",
    "outputId": "7cc72ad6-7b0e-4e6e-dcec-3060eb65399a"
   },
   "outputs": [
    {
     "data": {
      "text/html": [
       "<div>\n",
       "<style scoped>\n",
       "    .dataframe tbody tr th:only-of-type {\n",
       "        vertical-align: middle;\n",
       "    }\n",
       "\n",
       "    .dataframe tbody tr th {\n",
       "        vertical-align: top;\n",
       "    }\n",
       "\n",
       "    .dataframe thead th {\n",
       "        text-align: right;\n",
       "    }\n",
       "</style>\n",
       "<table border=\"1\" class=\"dataframe\">\n",
       "  <thead>\n",
       "    <tr style=\"text-align: right;\">\n",
       "      <th></th>\n",
       "      <th>1</th>\n",
       "      <th>2</th>\n",
       "    </tr>\n",
       "  </thead>\n",
       "  <tbody>\n",
       "    <tr>\n",
       "      <th>1</th>\n",
       "      <td>1.000000</td>\n",
       "      <td>0.962834</td>\n",
       "    </tr>\n",
       "    <tr>\n",
       "      <th>2</th>\n",
       "      <td>0.962834</td>\n",
       "      <td>1.000000</td>\n",
       "    </tr>\n",
       "  </tbody>\n",
       "</table>\n",
       "</div>"
      ],
      "text/plain": [
       "          1         2\n",
       "1  1.000000  0.962834\n",
       "2  0.962834  1.000000"
      ]
     },
     "execution_count": 17,
     "metadata": {},
     "output_type": "execute_result"
    }
   ],
   "source": [
    "weeks_df.corr()"
   ]
  },
  {
   "cell_type": "markdown",
   "metadata": {
    "colab_type": "text",
    "id": "IbZVf7nmujPJ"
   },
   "source": [
    "## 1.4 Use pandas to import a cleaned version of the titanic dataset from the following link: [Titanic Dataset](https://raw.githubusercontent.com/Geoyi/Cleaning-Titanic-Data/master/titanic_clean.csv)\n",
    "\n",
    "## Calculate the variance-covariance matrix and correlation matrix for the titanic dataset's numeric columns. (you can encode some of the categorical variables and include them as a stretch goal if you finish early)"
   ]
  },
  {
   "cell_type": "code",
   "execution_count": 18,
   "metadata": {
    "colab": {
     "base_uri": "https://localhost:8080/",
     "height": 808
    },
    "colab_type": "code",
    "id": "0TWgUIiaCFzq",
    "outputId": "e7173034-f712-4627-c14a-2af4a30343c6"
   },
   "outputs": [
    {
     "data": {
      "text/html": [
       "<div>\n",
       "<style scoped>\n",
       "    .dataframe tbody tr th:only-of-type {\n",
       "        vertical-align: middle;\n",
       "    }\n",
       "\n",
       "    .dataframe tbody tr th {\n",
       "        vertical-align: top;\n",
       "    }\n",
       "\n",
       "    .dataframe thead th {\n",
       "        text-align: right;\n",
       "    }\n",
       "</style>\n",
       "<table border=\"1\" class=\"dataframe\">\n",
       "  <thead>\n",
       "    <tr style=\"text-align: right;\">\n",
       "      <th></th>\n",
       "      <th>pclass</th>\n",
       "      <th>survived</th>\n",
       "      <th>name</th>\n",
       "      <th>sex</th>\n",
       "      <th>age</th>\n",
       "      <th>sibsp</th>\n",
       "      <th>parch</th>\n",
       "      <th>ticket</th>\n",
       "      <th>fare</th>\n",
       "      <th>cabin</th>\n",
       "      <th>embarked</th>\n",
       "      <th>boat</th>\n",
       "      <th>body</th>\n",
       "      <th>home.dest</th>\n",
       "      <th>has_cabin_number</th>\n",
       "    </tr>\n",
       "  </thead>\n",
       "  <tbody>\n",
       "    <tr>\n",
       "      <th>1</th>\n",
       "      <td>1.0</td>\n",
       "      <td>1.0</td>\n",
       "      <td>Allen, Miss. Elisabeth Walton</td>\n",
       "      <td>female</td>\n",
       "      <td>29.000000</td>\n",
       "      <td>0.0</td>\n",
       "      <td>0.0</td>\n",
       "      <td>24160</td>\n",
       "      <td>211.3375</td>\n",
       "      <td>B5</td>\n",
       "      <td>S</td>\n",
       "      <td>2</td>\n",
       "      <td>NaN</td>\n",
       "      <td>St Louis, MO</td>\n",
       "      <td>1</td>\n",
       "    </tr>\n",
       "    <tr>\n",
       "      <th>2</th>\n",
       "      <td>1.0</td>\n",
       "      <td>1.0</td>\n",
       "      <td>Allison, Master. Hudson Trevor</td>\n",
       "      <td>male</td>\n",
       "      <td>0.916700</td>\n",
       "      <td>1.0</td>\n",
       "      <td>2.0</td>\n",
       "      <td>113781</td>\n",
       "      <td>151.5500</td>\n",
       "      <td>C22 C26</td>\n",
       "      <td>S</td>\n",
       "      <td>11</td>\n",
       "      <td>NaN</td>\n",
       "      <td>Montreal, PQ / Chesterville, ON</td>\n",
       "      <td>1</td>\n",
       "    </tr>\n",
       "    <tr>\n",
       "      <th>3</th>\n",
       "      <td>1.0</td>\n",
       "      <td>0.0</td>\n",
       "      <td>Allison, Miss. Helen Loraine</td>\n",
       "      <td>female</td>\n",
       "      <td>2.000000</td>\n",
       "      <td>1.0</td>\n",
       "      <td>2.0</td>\n",
       "      <td>113781</td>\n",
       "      <td>151.5500</td>\n",
       "      <td>C22 C26</td>\n",
       "      <td>S</td>\n",
       "      <td>NaN</td>\n",
       "      <td>NaN</td>\n",
       "      <td>Montreal, PQ / Chesterville, ON</td>\n",
       "      <td>1</td>\n",
       "    </tr>\n",
       "    <tr>\n",
       "      <th>4</th>\n",
       "      <td>1.0</td>\n",
       "      <td>0.0</td>\n",
       "      <td>Allison, Mr. Hudson Joshua Creighton</td>\n",
       "      <td>male</td>\n",
       "      <td>30.000000</td>\n",
       "      <td>1.0</td>\n",
       "      <td>2.0</td>\n",
       "      <td>113781</td>\n",
       "      <td>151.5500</td>\n",
       "      <td>C22 C26</td>\n",
       "      <td>S</td>\n",
       "      <td>NaN</td>\n",
       "      <td>135.0</td>\n",
       "      <td>Montreal, PQ / Chesterville, ON</td>\n",
       "      <td>1</td>\n",
       "    </tr>\n",
       "    <tr>\n",
       "      <th>5</th>\n",
       "      <td>1.0</td>\n",
       "      <td>0.0</td>\n",
       "      <td>Allison, Mrs. Hudson J C (Bessie Waldo Daniels)</td>\n",
       "      <td>female</td>\n",
       "      <td>25.000000</td>\n",
       "      <td>1.0</td>\n",
       "      <td>2.0</td>\n",
       "      <td>113781</td>\n",
       "      <td>151.5500</td>\n",
       "      <td>C22 C26</td>\n",
       "      <td>S</td>\n",
       "      <td>NaN</td>\n",
       "      <td>NaN</td>\n",
       "      <td>Montreal, PQ / Chesterville, ON</td>\n",
       "      <td>1</td>\n",
       "    </tr>\n",
       "    <tr>\n",
       "      <th>...</th>\n",
       "      <td>...</td>\n",
       "      <td>...</td>\n",
       "      <td>...</td>\n",
       "      <td>...</td>\n",
       "      <td>...</td>\n",
       "      <td>...</td>\n",
       "      <td>...</td>\n",
       "      <td>...</td>\n",
       "      <td>...</td>\n",
       "      <td>...</td>\n",
       "      <td>...</td>\n",
       "      <td>...</td>\n",
       "      <td>...</td>\n",
       "      <td>...</td>\n",
       "      <td>...</td>\n",
       "    </tr>\n",
       "    <tr>\n",
       "      <th>1306</th>\n",
       "      <td>3.0</td>\n",
       "      <td>0.0</td>\n",
       "      <td>Zabour, Miss. Thamine</td>\n",
       "      <td>female</td>\n",
       "      <td>29.881135</td>\n",
       "      <td>1.0</td>\n",
       "      <td>0.0</td>\n",
       "      <td>2665</td>\n",
       "      <td>14.4542</td>\n",
       "      <td>NaN</td>\n",
       "      <td>C</td>\n",
       "      <td>NaN</td>\n",
       "      <td>NaN</td>\n",
       "      <td>NaN</td>\n",
       "      <td>0</td>\n",
       "    </tr>\n",
       "    <tr>\n",
       "      <th>1307</th>\n",
       "      <td>3.0</td>\n",
       "      <td>0.0</td>\n",
       "      <td>Zakarian, Mr. Mapriededer</td>\n",
       "      <td>male</td>\n",
       "      <td>26.500000</td>\n",
       "      <td>0.0</td>\n",
       "      <td>0.0</td>\n",
       "      <td>2656</td>\n",
       "      <td>7.2250</td>\n",
       "      <td>NaN</td>\n",
       "      <td>C</td>\n",
       "      <td>NaN</td>\n",
       "      <td>304.0</td>\n",
       "      <td>NaN</td>\n",
       "      <td>0</td>\n",
       "    </tr>\n",
       "    <tr>\n",
       "      <th>1308</th>\n",
       "      <td>3.0</td>\n",
       "      <td>0.0</td>\n",
       "      <td>Zakarian, Mr. Ortin</td>\n",
       "      <td>male</td>\n",
       "      <td>27.000000</td>\n",
       "      <td>0.0</td>\n",
       "      <td>0.0</td>\n",
       "      <td>2670</td>\n",
       "      <td>7.2250</td>\n",
       "      <td>NaN</td>\n",
       "      <td>C</td>\n",
       "      <td>NaN</td>\n",
       "      <td>NaN</td>\n",
       "      <td>NaN</td>\n",
       "      <td>0</td>\n",
       "    </tr>\n",
       "    <tr>\n",
       "      <th>1309</th>\n",
       "      <td>3.0</td>\n",
       "      <td>0.0</td>\n",
       "      <td>Zimmerman, Mr. Leo</td>\n",
       "      <td>male</td>\n",
       "      <td>29.000000</td>\n",
       "      <td>0.0</td>\n",
       "      <td>0.0</td>\n",
       "      <td>315082</td>\n",
       "      <td>7.8750</td>\n",
       "      <td>NaN</td>\n",
       "      <td>S</td>\n",
       "      <td>NaN</td>\n",
       "      <td>NaN</td>\n",
       "      <td>NaN</td>\n",
       "      <td>0</td>\n",
       "    </tr>\n",
       "    <tr>\n",
       "      <th>1310</th>\n",
       "      <td>NaN</td>\n",
       "      <td>NaN</td>\n",
       "      <td>NaN</td>\n",
       "      <td>NaN</td>\n",
       "      <td>29.881135</td>\n",
       "      <td>NaN</td>\n",
       "      <td>NaN</td>\n",
       "      <td>NaN</td>\n",
       "      <td>NaN</td>\n",
       "      <td>NaN</td>\n",
       "      <td>S</td>\n",
       "      <td>NaN</td>\n",
       "      <td>NaN</td>\n",
       "      <td>NaN</td>\n",
       "      <td>0</td>\n",
       "    </tr>\n",
       "  </tbody>\n",
       "</table>\n",
       "<p>1310 rows × 15 columns</p>\n",
       "</div>"
      ],
      "text/plain": [
       "      pclass  survived                                             name  \\\n",
       "1        1.0       1.0                    Allen, Miss. Elisabeth Walton   \n",
       "2        1.0       1.0                   Allison, Master. Hudson Trevor   \n",
       "3        1.0       0.0                     Allison, Miss. Helen Loraine   \n",
       "4        1.0       0.0             Allison, Mr. Hudson Joshua Creighton   \n",
       "5        1.0       0.0  Allison, Mrs. Hudson J C (Bessie Waldo Daniels)   \n",
       "...      ...       ...                                              ...   \n",
       "1306     3.0       0.0                            Zabour, Miss. Thamine   \n",
       "1307     3.0       0.0                        Zakarian, Mr. Mapriededer   \n",
       "1308     3.0       0.0                              Zakarian, Mr. Ortin   \n",
       "1309     3.0       0.0                               Zimmerman, Mr. Leo   \n",
       "1310     NaN       NaN                                              NaN   \n",
       "\n",
       "         sex        age  sibsp  parch  ticket      fare    cabin embarked  \\\n",
       "1     female  29.000000    0.0    0.0   24160  211.3375       B5        S   \n",
       "2       male   0.916700    1.0    2.0  113781  151.5500  C22 C26        S   \n",
       "3     female   2.000000    1.0    2.0  113781  151.5500  C22 C26        S   \n",
       "4       male  30.000000    1.0    2.0  113781  151.5500  C22 C26        S   \n",
       "5     female  25.000000    1.0    2.0  113781  151.5500  C22 C26        S   \n",
       "...      ...        ...    ...    ...     ...       ...      ...      ...   \n",
       "1306  female  29.881135    1.0    0.0    2665   14.4542      NaN        C   \n",
       "1307    male  26.500000    0.0    0.0    2656    7.2250      NaN        C   \n",
       "1308    male  27.000000    0.0    0.0    2670    7.2250      NaN        C   \n",
       "1309    male  29.000000    0.0    0.0  315082    7.8750      NaN        S   \n",
       "1310     NaN  29.881135    NaN    NaN     NaN       NaN      NaN        S   \n",
       "\n",
       "     boat   body                        home.dest  has_cabin_number  \n",
       "1       2    NaN                     St Louis, MO                 1  \n",
       "2      11    NaN  Montreal, PQ / Chesterville, ON                 1  \n",
       "3     NaN    NaN  Montreal, PQ / Chesterville, ON                 1  \n",
       "4     NaN  135.0  Montreal, PQ / Chesterville, ON                 1  \n",
       "5     NaN    NaN  Montreal, PQ / Chesterville, ON                 1  \n",
       "...   ...    ...                              ...               ...  \n",
       "1306  NaN    NaN                              NaN                 0  \n",
       "1307  NaN  304.0                              NaN                 0  \n",
       "1308  NaN    NaN                              NaN                 0  \n",
       "1309  NaN    NaN                              NaN                 0  \n",
       "1310  NaN    NaN                              NaN                 0  \n",
       "\n",
       "[1310 rows x 15 columns]"
      ]
     },
     "execution_count": 18,
     "metadata": {},
     "output_type": "execute_result"
    }
   ],
   "source": [
    "titanic_df = pd.read_csv(\"https://raw.githubusercontent.com/Geoyi/Cleaning-Titanic-Data/master/titanic_clean.csv\", index_col=0)\n",
    "titanic_df"
   ]
  },
  {
   "cell_type": "code",
   "execution_count": 19,
   "metadata": {
    "colab": {
     "base_uri": "https://localhost:8080/",
     "height": 320
    },
    "colab_type": "code",
    "id": "Fti0AXBwmQkN",
    "outputId": "dcae960c-7ea3-436d-9ddb-c8c794434b86"
   },
   "outputs": [
    {
     "data": {
      "text/html": [
       "<div>\n",
       "<style scoped>\n",
       "    .dataframe tbody tr th:only-of-type {\n",
       "        vertical-align: middle;\n",
       "    }\n",
       "\n",
       "    .dataframe tbody tr th {\n",
       "        vertical-align: top;\n",
       "    }\n",
       "\n",
       "    .dataframe thead th {\n",
       "        text-align: right;\n",
       "    }\n",
       "</style>\n",
       "<table border=\"1\" class=\"dataframe\">\n",
       "  <thead>\n",
       "    <tr style=\"text-align: right;\">\n",
       "      <th></th>\n",
       "      <th>pclass</th>\n",
       "      <th>survived</th>\n",
       "      <th>age</th>\n",
       "      <th>sibsp</th>\n",
       "      <th>parch</th>\n",
       "      <th>fare</th>\n",
       "      <th>body</th>\n",
       "      <th>has_cabin_number</th>\n",
       "    </tr>\n",
       "  </thead>\n",
       "  <tbody>\n",
       "    <tr>\n",
       "      <th>pclass</th>\n",
       "      <td>0.701969</td>\n",
       "      <td>-0.127248</td>\n",
       "      <td>-3.954605</td>\n",
       "      <td>0.053090</td>\n",
       "      <td>0.013287</td>\n",
       "      <td>-24.227788</td>\n",
       "      <td>-2.876653</td>\n",
       "      <td>-0.249992</td>\n",
       "    </tr>\n",
       "    <tr>\n",
       "      <th>survived</th>\n",
       "      <td>-0.127248</td>\n",
       "      <td>0.236250</td>\n",
       "      <td>-0.314343</td>\n",
       "      <td>-0.014088</td>\n",
       "      <td>0.034776</td>\n",
       "      <td>6.146023</td>\n",
       "      <td>0.000000</td>\n",
       "      <td>0.061406</td>\n",
       "    </tr>\n",
       "    <tr>\n",
       "      <th>age</th>\n",
       "      <td>-3.954605</td>\n",
       "      <td>-0.314343</td>\n",
       "      <td>165.850021</td>\n",
       "      <td>-2.559806</td>\n",
       "      <td>-1.459378</td>\n",
       "      <td>114.416613</td>\n",
       "      <td>81.622922</td>\n",
       "      <td>1.463138</td>\n",
       "    </tr>\n",
       "    <tr>\n",
       "      <th>sibsp</th>\n",
       "      <td>0.053090</td>\n",
       "      <td>-0.014088</td>\n",
       "      <td>-2.559806</td>\n",
       "      <td>1.085052</td>\n",
       "      <td>0.336833</td>\n",
       "      <td>8.641768</td>\n",
       "      <td>-8.708471</td>\n",
       "      <td>-0.003946</td>\n",
       "    </tr>\n",
       "    <tr>\n",
       "      <th>parch</th>\n",
       "      <td>0.013287</td>\n",
       "      <td>0.034776</td>\n",
       "      <td>-1.459378</td>\n",
       "      <td>0.336833</td>\n",
       "      <td>0.749195</td>\n",
       "      <td>9.928031</td>\n",
       "      <td>4.237190</td>\n",
       "      <td>0.013316</td>\n",
       "    </tr>\n",
       "    <tr>\n",
       "      <th>fare</th>\n",
       "      <td>-24.227788</td>\n",
       "      <td>6.146023</td>\n",
       "      <td>114.416613</td>\n",
       "      <td>8.641768</td>\n",
       "      <td>9.928031</td>\n",
       "      <td>2678.959738</td>\n",
       "      <td>-179.164684</td>\n",
       "      <td>10.976961</td>\n",
       "    </tr>\n",
       "    <tr>\n",
       "      <th>body</th>\n",
       "      <td>-2.876653</td>\n",
       "      <td>0.000000</td>\n",
       "      <td>81.622922</td>\n",
       "      <td>-8.708471</td>\n",
       "      <td>4.237190</td>\n",
       "      <td>-179.164684</td>\n",
       "      <td>9544.688567</td>\n",
       "      <td>3.625689</td>\n",
       "    </tr>\n",
       "    <tr>\n",
       "      <th>has_cabin_number</th>\n",
       "      <td>-0.249992</td>\n",
       "      <td>0.061406</td>\n",
       "      <td>1.463138</td>\n",
       "      <td>-0.003946</td>\n",
       "      <td>0.013316</td>\n",
       "      <td>10.976961</td>\n",
       "      <td>3.625689</td>\n",
       "      <td>0.174613</td>\n",
       "    </tr>\n",
       "  </tbody>\n",
       "</table>\n",
       "</div>"
      ],
      "text/plain": [
       "                     pclass  survived         age     sibsp     parch  \\\n",
       "pclass             0.701969 -0.127248   -3.954605  0.053090  0.013287   \n",
       "survived          -0.127248  0.236250   -0.314343 -0.014088  0.034776   \n",
       "age               -3.954605 -0.314343  165.850021 -2.559806 -1.459378   \n",
       "sibsp              0.053090 -0.014088   -2.559806  1.085052  0.336833   \n",
       "parch              0.013287  0.034776   -1.459378  0.336833  0.749195   \n",
       "fare             -24.227788  6.146023  114.416613  8.641768  9.928031   \n",
       "body              -2.876653  0.000000   81.622922 -8.708471  4.237190   \n",
       "has_cabin_number  -0.249992  0.061406    1.463138 -0.003946  0.013316   \n",
       "\n",
       "                         fare         body  has_cabin_number  \n",
       "pclass             -24.227788    -2.876653         -0.249992  \n",
       "survived             6.146023     0.000000          0.061406  \n",
       "age                114.416613    81.622922          1.463138  \n",
       "sibsp                8.641768    -8.708471         -0.003946  \n",
       "parch                9.928031     4.237190          0.013316  \n",
       "fare              2678.959738  -179.164684         10.976961  \n",
       "body              -179.164684  9544.688567          3.625689  \n",
       "has_cabin_number    10.976961     3.625689          0.174613  "
      ]
     },
     "execution_count": 19,
     "metadata": {},
     "output_type": "execute_result"
    }
   ],
   "source": [
    "titanic_df.cov()"
   ]
  },
  {
   "cell_type": "code",
   "execution_count": 20,
   "metadata": {
    "colab": {
     "base_uri": "https://localhost:8080/",
     "height": 320
    },
    "colab_type": "code",
    "id": "HxHeRIFlmS5U",
    "outputId": "8332e45b-979a-40f3-cceb-b7ea1e8dfec7"
   },
   "outputs": [
    {
     "data": {
      "text/html": [
       "<div>\n",
       "<style scoped>\n",
       "    .dataframe tbody tr th:only-of-type {\n",
       "        vertical-align: middle;\n",
       "    }\n",
       "\n",
       "    .dataframe tbody tr th {\n",
       "        vertical-align: top;\n",
       "    }\n",
       "\n",
       "    .dataframe thead th {\n",
       "        text-align: right;\n",
       "    }\n",
       "</style>\n",
       "<table border=\"1\" class=\"dataframe\">\n",
       "  <thead>\n",
       "    <tr style=\"text-align: right;\">\n",
       "      <th></th>\n",
       "      <th>pclass</th>\n",
       "      <th>survived</th>\n",
       "      <th>age</th>\n",
       "      <th>sibsp</th>\n",
       "      <th>parch</th>\n",
       "      <th>fare</th>\n",
       "      <th>body</th>\n",
       "      <th>has_cabin_number</th>\n",
       "    </tr>\n",
       "  </thead>\n",
       "  <tbody>\n",
       "    <tr>\n",
       "      <th>pclass</th>\n",
       "      <td>1.000000</td>\n",
       "      <td>-0.312469</td>\n",
       "      <td>-0.366370</td>\n",
       "      <td>0.060832</td>\n",
       "      <td>0.018322</td>\n",
       "      <td>-0.558629</td>\n",
       "      <td>-0.034642</td>\n",
       "      <td>-0.713857</td>\n",
       "    </tr>\n",
       "    <tr>\n",
       "      <th>survived</th>\n",
       "      <td>-0.312469</td>\n",
       "      <td>1.000000</td>\n",
       "      <td>-0.050199</td>\n",
       "      <td>-0.027825</td>\n",
       "      <td>0.082660</td>\n",
       "      <td>0.244265</td>\n",
       "      <td>NaN</td>\n",
       "      <td>0.302250</td>\n",
       "    </tr>\n",
       "    <tr>\n",
       "      <th>age</th>\n",
       "      <td>-0.366370</td>\n",
       "      <td>-0.050199</td>\n",
       "      <td>1.000000</td>\n",
       "      <td>-0.190747</td>\n",
       "      <td>-0.130872</td>\n",
       "      <td>0.171892</td>\n",
       "      <td>0.059059</td>\n",
       "      <td>0.271887</td>\n",
       "    </tr>\n",
       "    <tr>\n",
       "      <th>sibsp</th>\n",
       "      <td>0.060832</td>\n",
       "      <td>-0.027825</td>\n",
       "      <td>-0.190747</td>\n",
       "      <td>1.000000</td>\n",
       "      <td>0.373587</td>\n",
       "      <td>0.160238</td>\n",
       "      <td>-0.099961</td>\n",
       "      <td>-0.009064</td>\n",
       "    </tr>\n",
       "    <tr>\n",
       "      <th>parch</th>\n",
       "      <td>0.018322</td>\n",
       "      <td>0.082660</td>\n",
       "      <td>-0.130872</td>\n",
       "      <td>0.373587</td>\n",
       "      <td>1.000000</td>\n",
       "      <td>0.221539</td>\n",
       "      <td>0.051099</td>\n",
       "      <td>0.036806</td>\n",
       "    </tr>\n",
       "    <tr>\n",
       "      <th>fare</th>\n",
       "      <td>-0.558629</td>\n",
       "      <td>0.244265</td>\n",
       "      <td>0.171892</td>\n",
       "      <td>0.160238</td>\n",
       "      <td>0.221539</td>\n",
       "      <td>1.000000</td>\n",
       "      <td>-0.043110</td>\n",
       "      <td>0.507253</td>\n",
       "    </tr>\n",
       "    <tr>\n",
       "      <th>body</th>\n",
       "      <td>-0.034642</td>\n",
       "      <td>NaN</td>\n",
       "      <td>0.059059</td>\n",
       "      <td>-0.099961</td>\n",
       "      <td>0.051099</td>\n",
       "      <td>-0.043110</td>\n",
       "      <td>1.000000</td>\n",
       "      <td>0.083796</td>\n",
       "    </tr>\n",
       "    <tr>\n",
       "      <th>has_cabin_number</th>\n",
       "      <td>-0.713857</td>\n",
       "      <td>0.302250</td>\n",
       "      <td>0.271887</td>\n",
       "      <td>-0.009064</td>\n",
       "      <td>0.036806</td>\n",
       "      <td>0.507253</td>\n",
       "      <td>0.083796</td>\n",
       "      <td>1.000000</td>\n",
       "    </tr>\n",
       "  </tbody>\n",
       "</table>\n",
       "</div>"
      ],
      "text/plain": [
       "                    pclass  survived       age     sibsp     parch      fare  \\\n",
       "pclass            1.000000 -0.312469 -0.366370  0.060832  0.018322 -0.558629   \n",
       "survived         -0.312469  1.000000 -0.050199 -0.027825  0.082660  0.244265   \n",
       "age              -0.366370 -0.050199  1.000000 -0.190747 -0.130872  0.171892   \n",
       "sibsp             0.060832 -0.027825 -0.190747  1.000000  0.373587  0.160238   \n",
       "parch             0.018322  0.082660 -0.130872  0.373587  1.000000  0.221539   \n",
       "fare             -0.558629  0.244265  0.171892  0.160238  0.221539  1.000000   \n",
       "body             -0.034642       NaN  0.059059 -0.099961  0.051099 -0.043110   \n",
       "has_cabin_number -0.713857  0.302250  0.271887 -0.009064  0.036806  0.507253   \n",
       "\n",
       "                      body  has_cabin_number  \n",
       "pclass           -0.034642         -0.713857  \n",
       "survived               NaN          0.302250  \n",
       "age               0.059059          0.271887  \n",
       "sibsp            -0.099961         -0.009064  \n",
       "parch             0.051099          0.036806  \n",
       "fare             -0.043110          0.507253  \n",
       "body              1.000000          0.083796  \n",
       "has_cabin_number  0.083796          1.000000  "
      ]
     },
     "execution_count": 20,
     "metadata": {},
     "output_type": "execute_result"
    }
   ],
   "source": [
    "titanic_df.corr()"
   ]
  },
  {
   "cell_type": "markdown",
   "metadata": {
    "colab_type": "text",
    "id": "7K0Xfh8MvYkl"
   },
   "source": [
    "# Orthogonality"
   ]
  },
  {
   "cell_type": "markdown",
   "metadata": {
    "colab_type": "text",
    "id": "Pe3eOZ2fvdZ-"
   },
   "source": [
    "## 2.1 Plot two vectors that are orthogonal to each other. What is a synonym for orthogonal?"
   ]
  },
  {
   "cell_type": "code",
   "execution_count": 34,
   "metadata": {
    "colab": {},
    "colab_type": "code",
    "id": "nuQFUptimYyo"
   },
   "outputs": [],
   "source": [
    "\n",
    "\n",
    "def get_colors():\n",
    "  colors = [\n",
    "    'red',\n",
    "    'blue',\n",
    "    'gold',\n",
    "    'green',\n",
    "    'orange',\n",
    "    'dodgerblue',\n",
    "    'firebrick',\n",
    "    'chocolate',\n",
    "    'limegreen',\n",
    "    'darkgreen',\n",
    "    'darkblue'\n",
    "  ]\n",
    "\n",
    "  shuffle(colors)\n",
    "\n",
    "  for color in colors:\n",
    "    yield color\n",
    "\n",
    "def setup_plot():\n",
    "  %matplotlib inline\n",
    "  fig, ax = plt.subplots(1,1)\n",
    "  ax.grid()\n",
    "  plt.xlim(-2, 25)\n",
    "  plt.ylim(-2, 25)\n",
    "  return fig, ax\n",
    "\n",
    "def get_formatting():\n",
    "  formatting = {\n",
    "    'head_width': 1, \n",
    "    'head_length': 1,\n",
    "    'linewidth': 3,\n",
    "    'length_includes_head': True }\n",
    "  return formatting\n",
    "\n",
    "def plot_2d_vectors(vectors):\n",
    "\n",
    "  formatting = get_formatting()\n",
    "  fig, ax = setup_plot()\n",
    "\n",
    "  colors = get_colors()\n",
    "\n",
    "\n",
    "  for vector in vectors:\n",
    "    plt.arrow(0, 0, *vector, **formatting, color = next(colors))\n",
    "\n",
    "  \n",
    "  plt.show()"
   ]
  },
  {
   "cell_type": "code",
   "execution_count": 22,
   "metadata": {
    "colab": {},
    "colab_type": "code",
    "id": "YLSBk7hJvvCx"
   },
   "outputs": [],
   "source": [
    "ls = [np.array([0,10]), np.array([10,0])]"
   ]
  },
  {
   "cell_type": "code",
   "execution_count": 33,
   "metadata": {
    "colab": {
     "base_uri": "https://localhost:8080/",
     "height": 269
    },
    "colab_type": "code",
    "id": "90_PPOwImj4a",
    "outputId": "6a2b4a7c-9a39-4fae-f04b-b06b26b1d9e6"
   },
   "outputs": [
    {
     "data": {
      "application/javascript": [
       "/* Put everything inside the global mpl namespace */\n",
       "window.mpl = {};\n",
       "\n",
       "\n",
       "mpl.get_websocket_type = function() {\n",
       "    if (typeof(WebSocket) !== 'undefined') {\n",
       "        return WebSocket;\n",
       "    } else if (typeof(MozWebSocket) !== 'undefined') {\n",
       "        return MozWebSocket;\n",
       "    } else {\n",
       "        alert('Your browser does not have WebSocket support. ' +\n",
       "              'Please try Chrome, Safari or Firefox ≥ 6. ' +\n",
       "              'Firefox 4 and 5 are also supported but you ' +\n",
       "              'have to enable WebSockets in about:config.');\n",
       "    };\n",
       "}\n",
       "\n",
       "mpl.figure = function(figure_id, websocket, ondownload, parent_element) {\n",
       "    this.id = figure_id;\n",
       "\n",
       "    this.ws = websocket;\n",
       "\n",
       "    this.supports_binary = (this.ws.binaryType != undefined);\n",
       "\n",
       "    if (!this.supports_binary) {\n",
       "        var warnings = document.getElementById(\"mpl-warnings\");\n",
       "        if (warnings) {\n",
       "            warnings.style.display = 'block';\n",
       "            warnings.textContent = (\n",
       "                \"This browser does not support binary websocket messages. \" +\n",
       "                    \"Performance may be slow.\");\n",
       "        }\n",
       "    }\n",
       "\n",
       "    this.imageObj = new Image();\n",
       "\n",
       "    this.context = undefined;\n",
       "    this.message = undefined;\n",
       "    this.canvas = undefined;\n",
       "    this.rubberband_canvas = undefined;\n",
       "    this.rubberband_context = undefined;\n",
       "    this.format_dropdown = undefined;\n",
       "\n",
       "    this.image_mode = 'full';\n",
       "\n",
       "    this.root = $('<div/>');\n",
       "    this._root_extra_style(this.root)\n",
       "    this.root.attr('style', 'display: inline-block');\n",
       "\n",
       "    $(parent_element).append(this.root);\n",
       "\n",
       "    this._init_header(this);\n",
       "    this._init_canvas(this);\n",
       "    this._init_toolbar(this);\n",
       "\n",
       "    var fig = this;\n",
       "\n",
       "    this.waiting = false;\n",
       "\n",
       "    this.ws.onopen =  function () {\n",
       "            fig.send_message(\"supports_binary\", {value: fig.supports_binary});\n",
       "            fig.send_message(\"send_image_mode\", {});\n",
       "            if (mpl.ratio != 1) {\n",
       "                fig.send_message(\"set_dpi_ratio\", {'dpi_ratio': mpl.ratio});\n",
       "            }\n",
       "            fig.send_message(\"refresh\", {});\n",
       "        }\n",
       "\n",
       "    this.imageObj.onload = function() {\n",
       "            if (fig.image_mode == 'full') {\n",
       "                // Full images could contain transparency (where diff images\n",
       "                // almost always do), so we need to clear the canvas so that\n",
       "                // there is no ghosting.\n",
       "                fig.context.clearRect(0, 0, fig.canvas.width, fig.canvas.height);\n",
       "            }\n",
       "            fig.context.drawImage(fig.imageObj, 0, 0);\n",
       "        };\n",
       "\n",
       "    this.imageObj.onunload = function() {\n",
       "        fig.ws.close();\n",
       "    }\n",
       "\n",
       "    this.ws.onmessage = this._make_on_message_function(this);\n",
       "\n",
       "    this.ondownload = ondownload;\n",
       "}\n",
       "\n",
       "mpl.figure.prototype._init_header = function() {\n",
       "    var titlebar = $(\n",
       "        '<div class=\"ui-dialog-titlebar ui-widget-header ui-corner-all ' +\n",
       "        'ui-helper-clearfix\"/>');\n",
       "    var titletext = $(\n",
       "        '<div class=\"ui-dialog-title\" style=\"width: 100%; ' +\n",
       "        'text-align: center; padding: 3px;\"/>');\n",
       "    titlebar.append(titletext)\n",
       "    this.root.append(titlebar);\n",
       "    this.header = titletext[0];\n",
       "}\n",
       "\n",
       "\n",
       "\n",
       "mpl.figure.prototype._canvas_extra_style = function(canvas_div) {\n",
       "\n",
       "}\n",
       "\n",
       "\n",
       "mpl.figure.prototype._root_extra_style = function(canvas_div) {\n",
       "\n",
       "}\n",
       "\n",
       "mpl.figure.prototype._init_canvas = function() {\n",
       "    var fig = this;\n",
       "\n",
       "    var canvas_div = $('<div/>');\n",
       "\n",
       "    canvas_div.attr('style', 'position: relative; clear: both; outline: 0');\n",
       "\n",
       "    function canvas_keyboard_event(event) {\n",
       "        return fig.key_event(event, event['data']);\n",
       "    }\n",
       "\n",
       "    canvas_div.keydown('key_press', canvas_keyboard_event);\n",
       "    canvas_div.keyup('key_release', canvas_keyboard_event);\n",
       "    this.canvas_div = canvas_div\n",
       "    this._canvas_extra_style(canvas_div)\n",
       "    this.root.append(canvas_div);\n",
       "\n",
       "    var canvas = $('<canvas/>');\n",
       "    canvas.addClass('mpl-canvas');\n",
       "    canvas.attr('style', \"left: 0; top: 0; z-index: 0; outline: 0\")\n",
       "\n",
       "    this.canvas = canvas[0];\n",
       "    this.context = canvas[0].getContext(\"2d\");\n",
       "\n",
       "    var backingStore = this.context.backingStorePixelRatio ||\n",
       "\tthis.context.webkitBackingStorePixelRatio ||\n",
       "\tthis.context.mozBackingStorePixelRatio ||\n",
       "\tthis.context.msBackingStorePixelRatio ||\n",
       "\tthis.context.oBackingStorePixelRatio ||\n",
       "\tthis.context.backingStorePixelRatio || 1;\n",
       "\n",
       "    mpl.ratio = (window.devicePixelRatio || 1) / backingStore;\n",
       "\n",
       "    var rubberband = $('<canvas/>');\n",
       "    rubberband.attr('style', \"position: absolute; left: 0; top: 0; z-index: 1;\")\n",
       "\n",
       "    var pass_mouse_events = true;\n",
       "\n",
       "    canvas_div.resizable({\n",
       "        start: function(event, ui) {\n",
       "            pass_mouse_events = false;\n",
       "        },\n",
       "        resize: function(event, ui) {\n",
       "            fig.request_resize(ui.size.width, ui.size.height);\n",
       "        },\n",
       "        stop: function(event, ui) {\n",
       "            pass_mouse_events = true;\n",
       "            fig.request_resize(ui.size.width, ui.size.height);\n",
       "        },\n",
       "    });\n",
       "\n",
       "    function mouse_event_fn(event) {\n",
       "        if (pass_mouse_events)\n",
       "            return fig.mouse_event(event, event['data']);\n",
       "    }\n",
       "\n",
       "    rubberband.mousedown('button_press', mouse_event_fn);\n",
       "    rubberband.mouseup('button_release', mouse_event_fn);\n",
       "    // Throttle sequential mouse events to 1 every 20ms.\n",
       "    rubberband.mousemove('motion_notify', mouse_event_fn);\n",
       "\n",
       "    rubberband.mouseenter('figure_enter', mouse_event_fn);\n",
       "    rubberband.mouseleave('figure_leave', mouse_event_fn);\n",
       "\n",
       "    canvas_div.on(\"wheel\", function (event) {\n",
       "        event = event.originalEvent;\n",
       "        event['data'] = 'scroll'\n",
       "        if (event.deltaY < 0) {\n",
       "            event.step = 1;\n",
       "        } else {\n",
       "            event.step = -1;\n",
       "        }\n",
       "        mouse_event_fn(event);\n",
       "    });\n",
       "\n",
       "    canvas_div.append(canvas);\n",
       "    canvas_div.append(rubberband);\n",
       "\n",
       "    this.rubberband = rubberband;\n",
       "    this.rubberband_canvas = rubberband[0];\n",
       "    this.rubberband_context = rubberband[0].getContext(\"2d\");\n",
       "    this.rubberband_context.strokeStyle = \"#000000\";\n",
       "\n",
       "    this._resize_canvas = function(width, height) {\n",
       "        // Keep the size of the canvas, canvas container, and rubber band\n",
       "        // canvas in synch.\n",
       "        canvas_div.css('width', width)\n",
       "        canvas_div.css('height', height)\n",
       "\n",
       "        canvas.attr('width', width * mpl.ratio);\n",
       "        canvas.attr('height', height * mpl.ratio);\n",
       "        canvas.attr('style', 'width: ' + width + 'px; height: ' + height + 'px;');\n",
       "\n",
       "        rubberband.attr('width', width);\n",
       "        rubberband.attr('height', height);\n",
       "    }\n",
       "\n",
       "    // Set the figure to an initial 600x600px, this will subsequently be updated\n",
       "    // upon first draw.\n",
       "    this._resize_canvas(600, 600);\n",
       "\n",
       "    // Disable right mouse context menu.\n",
       "    $(this.rubberband_canvas).bind(\"contextmenu\",function(e){\n",
       "        return false;\n",
       "    });\n",
       "\n",
       "    function set_focus () {\n",
       "        canvas.focus();\n",
       "        canvas_div.focus();\n",
       "    }\n",
       "\n",
       "    window.setTimeout(set_focus, 100);\n",
       "}\n",
       "\n",
       "mpl.figure.prototype._init_toolbar = function() {\n",
       "    var fig = this;\n",
       "\n",
       "    var nav_element = $('<div/>');\n",
       "    nav_element.attr('style', 'width: 100%');\n",
       "    this.root.append(nav_element);\n",
       "\n",
       "    // Define a callback function for later on.\n",
       "    function toolbar_event(event) {\n",
       "        return fig.toolbar_button_onclick(event['data']);\n",
       "    }\n",
       "    function toolbar_mouse_event(event) {\n",
       "        return fig.toolbar_button_onmouseover(event['data']);\n",
       "    }\n",
       "\n",
       "    for(var toolbar_ind in mpl.toolbar_items) {\n",
       "        var name = mpl.toolbar_items[toolbar_ind][0];\n",
       "        var tooltip = mpl.toolbar_items[toolbar_ind][1];\n",
       "        var image = mpl.toolbar_items[toolbar_ind][2];\n",
       "        var method_name = mpl.toolbar_items[toolbar_ind][3];\n",
       "\n",
       "        if (!name) {\n",
       "            // put a spacer in here.\n",
       "            continue;\n",
       "        }\n",
       "        var button = $('<button/>');\n",
       "        button.addClass('ui-button ui-widget ui-state-default ui-corner-all ' +\n",
       "                        'ui-button-icon-only');\n",
       "        button.attr('role', 'button');\n",
       "        button.attr('aria-disabled', 'false');\n",
       "        button.click(method_name, toolbar_event);\n",
       "        button.mouseover(tooltip, toolbar_mouse_event);\n",
       "\n",
       "        var icon_img = $('<span/>');\n",
       "        icon_img.addClass('ui-button-icon-primary ui-icon');\n",
       "        icon_img.addClass(image);\n",
       "        icon_img.addClass('ui-corner-all');\n",
       "\n",
       "        var tooltip_span = $('<span/>');\n",
       "        tooltip_span.addClass('ui-button-text');\n",
       "        tooltip_span.html(tooltip);\n",
       "\n",
       "        button.append(icon_img);\n",
       "        button.append(tooltip_span);\n",
       "\n",
       "        nav_element.append(button);\n",
       "    }\n",
       "\n",
       "    var fmt_picker_span = $('<span/>');\n",
       "\n",
       "    var fmt_picker = $('<select/>');\n",
       "    fmt_picker.addClass('mpl-toolbar-option ui-widget ui-widget-content');\n",
       "    fmt_picker_span.append(fmt_picker);\n",
       "    nav_element.append(fmt_picker_span);\n",
       "    this.format_dropdown = fmt_picker[0];\n",
       "\n",
       "    for (var ind in mpl.extensions) {\n",
       "        var fmt = mpl.extensions[ind];\n",
       "        var option = $(\n",
       "            '<option/>', {selected: fmt === mpl.default_extension}).html(fmt);\n",
       "        fmt_picker.append(option);\n",
       "    }\n",
       "\n",
       "    // Add hover states to the ui-buttons\n",
       "    $( \".ui-button\" ).hover(\n",
       "        function() { $(this).addClass(\"ui-state-hover\");},\n",
       "        function() { $(this).removeClass(\"ui-state-hover\");}\n",
       "    );\n",
       "\n",
       "    var status_bar = $('<span class=\"mpl-message\"/>');\n",
       "    nav_element.append(status_bar);\n",
       "    this.message = status_bar[0];\n",
       "}\n",
       "\n",
       "mpl.figure.prototype.request_resize = function(x_pixels, y_pixels) {\n",
       "    // Request matplotlib to resize the figure. Matplotlib will then trigger a resize in the client,\n",
       "    // which will in turn request a refresh of the image.\n",
       "    this.send_message('resize', {'width': x_pixels, 'height': y_pixels});\n",
       "}\n",
       "\n",
       "mpl.figure.prototype.send_message = function(type, properties) {\n",
       "    properties['type'] = type;\n",
       "    properties['figure_id'] = this.id;\n",
       "    this.ws.send(JSON.stringify(properties));\n",
       "}\n",
       "\n",
       "mpl.figure.prototype.send_draw_message = function() {\n",
       "    if (!this.waiting) {\n",
       "        this.waiting = true;\n",
       "        this.ws.send(JSON.stringify({type: \"draw\", figure_id: this.id}));\n",
       "    }\n",
       "}\n",
       "\n",
       "\n",
       "mpl.figure.prototype.handle_save = function(fig, msg) {\n",
       "    var format_dropdown = fig.format_dropdown;\n",
       "    var format = format_dropdown.options[format_dropdown.selectedIndex].value;\n",
       "    fig.ondownload(fig, format);\n",
       "}\n",
       "\n",
       "\n",
       "mpl.figure.prototype.handle_resize = function(fig, msg) {\n",
       "    var size = msg['size'];\n",
       "    if (size[0] != fig.canvas.width || size[1] != fig.canvas.height) {\n",
       "        fig._resize_canvas(size[0], size[1]);\n",
       "        fig.send_message(\"refresh\", {});\n",
       "    };\n",
       "}\n",
       "\n",
       "mpl.figure.prototype.handle_rubberband = function(fig, msg) {\n",
       "    var x0 = msg['x0'] / mpl.ratio;\n",
       "    var y0 = (fig.canvas.height - msg['y0']) / mpl.ratio;\n",
       "    var x1 = msg['x1'] / mpl.ratio;\n",
       "    var y1 = (fig.canvas.height - msg['y1']) / mpl.ratio;\n",
       "    x0 = Math.floor(x0) + 0.5;\n",
       "    y0 = Math.floor(y0) + 0.5;\n",
       "    x1 = Math.floor(x1) + 0.5;\n",
       "    y1 = Math.floor(y1) + 0.5;\n",
       "    var min_x = Math.min(x0, x1);\n",
       "    var min_y = Math.min(y0, y1);\n",
       "    var width = Math.abs(x1 - x0);\n",
       "    var height = Math.abs(y1 - y0);\n",
       "\n",
       "    fig.rubberband_context.clearRect(\n",
       "        0, 0, fig.canvas.width / mpl.ratio, fig.canvas.height / mpl.ratio);\n",
       "\n",
       "    fig.rubberband_context.strokeRect(min_x, min_y, width, height);\n",
       "}\n",
       "\n",
       "mpl.figure.prototype.handle_figure_label = function(fig, msg) {\n",
       "    // Updates the figure title.\n",
       "    fig.header.textContent = msg['label'];\n",
       "}\n",
       "\n",
       "mpl.figure.prototype.handle_cursor = function(fig, msg) {\n",
       "    var cursor = msg['cursor'];\n",
       "    switch(cursor)\n",
       "    {\n",
       "    case 0:\n",
       "        cursor = 'pointer';\n",
       "        break;\n",
       "    case 1:\n",
       "        cursor = 'default';\n",
       "        break;\n",
       "    case 2:\n",
       "        cursor = 'crosshair';\n",
       "        break;\n",
       "    case 3:\n",
       "        cursor = 'move';\n",
       "        break;\n",
       "    }\n",
       "    fig.rubberband_canvas.style.cursor = cursor;\n",
       "}\n",
       "\n",
       "mpl.figure.prototype.handle_message = function(fig, msg) {\n",
       "    fig.message.textContent = msg['message'];\n",
       "}\n",
       "\n",
       "mpl.figure.prototype.handle_draw = function(fig, msg) {\n",
       "    // Request the server to send over a new figure.\n",
       "    fig.send_draw_message();\n",
       "}\n",
       "\n",
       "mpl.figure.prototype.handle_image_mode = function(fig, msg) {\n",
       "    fig.image_mode = msg['mode'];\n",
       "}\n",
       "\n",
       "mpl.figure.prototype.updated_canvas_event = function() {\n",
       "    // Called whenever the canvas gets updated.\n",
       "    this.send_message(\"ack\", {});\n",
       "}\n",
       "\n",
       "// A function to construct a web socket function for onmessage handling.\n",
       "// Called in the figure constructor.\n",
       "mpl.figure.prototype._make_on_message_function = function(fig) {\n",
       "    return function socket_on_message(evt) {\n",
       "        if (evt.data instanceof Blob) {\n",
       "            /* FIXME: We get \"Resource interpreted as Image but\n",
       "             * transferred with MIME type text/plain:\" errors on\n",
       "             * Chrome.  But how to set the MIME type?  It doesn't seem\n",
       "             * to be part of the websocket stream */\n",
       "            evt.data.type = \"image/png\";\n",
       "\n",
       "            /* Free the memory for the previous frames */\n",
       "            if (fig.imageObj.src) {\n",
       "                (window.URL || window.webkitURL).revokeObjectURL(\n",
       "                    fig.imageObj.src);\n",
       "            }\n",
       "\n",
       "            fig.imageObj.src = (window.URL || window.webkitURL).createObjectURL(\n",
       "                evt.data);\n",
       "            fig.updated_canvas_event();\n",
       "            fig.waiting = false;\n",
       "            return;\n",
       "        }\n",
       "        else if (typeof evt.data === 'string' && evt.data.slice(0, 21) == \"data:image/png;base64\") {\n",
       "            fig.imageObj.src = evt.data;\n",
       "            fig.updated_canvas_event();\n",
       "            fig.waiting = false;\n",
       "            return;\n",
       "        }\n",
       "\n",
       "        var msg = JSON.parse(evt.data);\n",
       "        var msg_type = msg['type'];\n",
       "\n",
       "        // Call the  \"handle_{type}\" callback, which takes\n",
       "        // the figure and JSON message as its only arguments.\n",
       "        try {\n",
       "            var callback = fig[\"handle_\" + msg_type];\n",
       "        } catch (e) {\n",
       "            console.log(\"No handler for the '\" + msg_type + \"' message type: \", msg);\n",
       "            return;\n",
       "        }\n",
       "\n",
       "        if (callback) {\n",
       "            try {\n",
       "                // console.log(\"Handling '\" + msg_type + \"' message: \", msg);\n",
       "                callback(fig, msg);\n",
       "            } catch (e) {\n",
       "                console.log(\"Exception inside the 'handler_\" + msg_type + \"' callback:\", e, e.stack, msg);\n",
       "            }\n",
       "        }\n",
       "    };\n",
       "}\n",
       "\n",
       "// from http://stackoverflow.com/questions/1114465/getting-mouse-location-in-canvas\n",
       "mpl.findpos = function(e) {\n",
       "    //this section is from http://www.quirksmode.org/js/events_properties.html\n",
       "    var targ;\n",
       "    if (!e)\n",
       "        e = window.event;\n",
       "    if (e.target)\n",
       "        targ = e.target;\n",
       "    else if (e.srcElement)\n",
       "        targ = e.srcElement;\n",
       "    if (targ.nodeType == 3) // defeat Safari bug\n",
       "        targ = targ.parentNode;\n",
       "\n",
       "    // jQuery normalizes the pageX and pageY\n",
       "    // pageX,Y are the mouse positions relative to the document\n",
       "    // offset() returns the position of the element relative to the document\n",
       "    var x = e.pageX - $(targ).offset().left;\n",
       "    var y = e.pageY - $(targ).offset().top;\n",
       "\n",
       "    return {\"x\": x, \"y\": y};\n",
       "};\n",
       "\n",
       "/*\n",
       " * return a copy of an object with only non-object keys\n",
       " * we need this to avoid circular references\n",
       " * http://stackoverflow.com/a/24161582/3208463\n",
       " */\n",
       "function simpleKeys (original) {\n",
       "  return Object.keys(original).reduce(function (obj, key) {\n",
       "    if (typeof original[key] !== 'object')\n",
       "        obj[key] = original[key]\n",
       "    return obj;\n",
       "  }, {});\n",
       "}\n",
       "\n",
       "mpl.figure.prototype.mouse_event = function(event, name) {\n",
       "    var canvas_pos = mpl.findpos(event)\n",
       "\n",
       "    if (name === 'button_press')\n",
       "    {\n",
       "        this.canvas.focus();\n",
       "        this.canvas_div.focus();\n",
       "    }\n",
       "\n",
       "    var x = canvas_pos.x * mpl.ratio;\n",
       "    var y = canvas_pos.y * mpl.ratio;\n",
       "\n",
       "    this.send_message(name, {x: x, y: y, button: event.button,\n",
       "                             step: event.step,\n",
       "                             guiEvent: simpleKeys(event)});\n",
       "\n",
       "    /* This prevents the web browser from automatically changing to\n",
       "     * the text insertion cursor when the button is pressed.  We want\n",
       "     * to control all of the cursor setting manually through the\n",
       "     * 'cursor' event from matplotlib */\n",
       "    event.preventDefault();\n",
       "    return false;\n",
       "}\n",
       "\n",
       "mpl.figure.prototype._key_event_extra = function(event, name) {\n",
       "    // Handle any extra behaviour associated with a key event\n",
       "}\n",
       "\n",
       "mpl.figure.prototype.key_event = function(event, name) {\n",
       "\n",
       "    // Prevent repeat events\n",
       "    if (name == 'key_press')\n",
       "    {\n",
       "        if (event.which === this._key)\n",
       "            return;\n",
       "        else\n",
       "            this._key = event.which;\n",
       "    }\n",
       "    if (name == 'key_release')\n",
       "        this._key = null;\n",
       "\n",
       "    var value = '';\n",
       "    if (event.ctrlKey && event.which != 17)\n",
       "        value += \"ctrl+\";\n",
       "    if (event.altKey && event.which != 18)\n",
       "        value += \"alt+\";\n",
       "    if (event.shiftKey && event.which != 16)\n",
       "        value += \"shift+\";\n",
       "\n",
       "    value += 'k';\n",
       "    value += event.which.toString();\n",
       "\n",
       "    this._key_event_extra(event, name);\n",
       "\n",
       "    this.send_message(name, {key: value,\n",
       "                             guiEvent: simpleKeys(event)});\n",
       "    return false;\n",
       "}\n",
       "\n",
       "mpl.figure.prototype.toolbar_button_onclick = function(name) {\n",
       "    if (name == 'download') {\n",
       "        this.handle_save(this, null);\n",
       "    } else {\n",
       "        this.send_message(\"toolbar_button\", {name: name});\n",
       "    }\n",
       "};\n",
       "\n",
       "mpl.figure.prototype.toolbar_button_onmouseover = function(tooltip) {\n",
       "    this.message.textContent = tooltip;\n",
       "};\n",
       "mpl.toolbar_items = [[\"Home\", \"Reset original view\", \"fa fa-home icon-home\", \"home\"], [\"Back\", \"Back to previous view\", \"fa fa-arrow-left icon-arrow-left\", \"back\"], [\"Forward\", \"Forward to next view\", \"fa fa-arrow-right icon-arrow-right\", \"forward\"], [\"\", \"\", \"\", \"\"], [\"Pan\", \"Pan axes with left mouse, zoom with right\", \"fa fa-arrows icon-move\", \"pan\"], [\"Zoom\", \"Zoom to rectangle\", \"fa fa-square-o icon-check-empty\", \"zoom\"], [\"\", \"\", \"\", \"\"], [\"Download\", \"Download plot\", \"fa fa-floppy-o icon-save\", \"download\"]];\n",
       "\n",
       "mpl.extensions = [\"eps\", \"pdf\", \"png\", \"ps\", \"raw\", \"svg\"];\n",
       "\n",
       "mpl.default_extension = \"png\";var comm_websocket_adapter = function(comm) {\n",
       "    // Create a \"websocket\"-like object which calls the given IPython comm\n",
       "    // object with the appropriate methods. Currently this is a non binary\n",
       "    // socket, so there is still some room for performance tuning.\n",
       "    var ws = {};\n",
       "\n",
       "    ws.close = function() {\n",
       "        comm.close()\n",
       "    };\n",
       "    ws.send = function(m) {\n",
       "        //console.log('sending', m);\n",
       "        comm.send(m);\n",
       "    };\n",
       "    // Register the callback with on_msg.\n",
       "    comm.on_msg(function(msg) {\n",
       "        //console.log('receiving', msg['content']['data'], msg);\n",
       "        // Pass the mpl event to the overridden (by mpl) onmessage function.\n",
       "        ws.onmessage(msg['content']['data'])\n",
       "    });\n",
       "    return ws;\n",
       "}\n",
       "\n",
       "mpl.mpl_figure_comm = function(comm, msg) {\n",
       "    // This is the function which gets called when the mpl process\n",
       "    // starts-up an IPython Comm through the \"matplotlib\" channel.\n",
       "\n",
       "    var id = msg.content.data.id;\n",
       "    // Get hold of the div created by the display call when the Comm\n",
       "    // socket was opened in Python.\n",
       "    var element = $(\"#\" + id);\n",
       "    var ws_proxy = comm_websocket_adapter(comm)\n",
       "\n",
       "    function ondownload(figure, format) {\n",
       "        window.open(figure.imageObj.src);\n",
       "    }\n",
       "\n",
       "    var fig = new mpl.figure(id, ws_proxy,\n",
       "                           ondownload,\n",
       "                           element.get(0));\n",
       "\n",
       "    // Call onopen now - mpl needs it, as it is assuming we've passed it a real\n",
       "    // web socket which is closed, not our websocket->open comm proxy.\n",
       "    ws_proxy.onopen();\n",
       "\n",
       "    fig.parent_element = element.get(0);\n",
       "    fig.cell_info = mpl.find_output_cell(\"<div id='\" + id + \"'></div>\");\n",
       "    if (!fig.cell_info) {\n",
       "        console.error(\"Failed to find cell for figure\", id, fig);\n",
       "        return;\n",
       "    }\n",
       "\n",
       "    var output_index = fig.cell_info[2]\n",
       "    var cell = fig.cell_info[0];\n",
       "\n",
       "};\n",
       "\n",
       "mpl.figure.prototype.handle_close = function(fig, msg) {\n",
       "    var width = fig.canvas.width/mpl.ratio\n",
       "    fig.root.unbind('remove')\n",
       "\n",
       "    // Update the output cell to use the data from the current canvas.\n",
       "    fig.push_to_output();\n",
       "    var dataURL = fig.canvas.toDataURL();\n",
       "    // Re-enable the keyboard manager in IPython - without this line, in FF,\n",
       "    // the notebook keyboard shortcuts fail.\n",
       "    IPython.keyboard_manager.enable()\n",
       "    $(fig.parent_element).html('<img src=\"' + dataURL + '\" width=\"' + width + '\">');\n",
       "    fig.close_ws(fig, msg);\n",
       "}\n",
       "\n",
       "mpl.figure.prototype.close_ws = function(fig, msg){\n",
       "    fig.send_message('closing', msg);\n",
       "    // fig.ws.close()\n",
       "}\n",
       "\n",
       "mpl.figure.prototype.push_to_output = function(remove_interactive) {\n",
       "    // Turn the data on the canvas into data in the output cell.\n",
       "    var width = this.canvas.width/mpl.ratio\n",
       "    var dataURL = this.canvas.toDataURL();\n",
       "    this.cell_info[1]['text/html'] = '<img src=\"' + dataURL + '\" width=\"' + width + '\">';\n",
       "}\n",
       "\n",
       "mpl.figure.prototype.updated_canvas_event = function() {\n",
       "    // Tell IPython that the notebook contents must change.\n",
       "    IPython.notebook.set_dirty(true);\n",
       "    this.send_message(\"ack\", {});\n",
       "    var fig = this;\n",
       "    // Wait a second, then push the new image to the DOM so\n",
       "    // that it is saved nicely (might be nice to debounce this).\n",
       "    setTimeout(function () { fig.push_to_output() }, 1000);\n",
       "}\n",
       "\n",
       "mpl.figure.prototype._init_toolbar = function() {\n",
       "    var fig = this;\n",
       "\n",
       "    var nav_element = $('<div/>');\n",
       "    nav_element.attr('style', 'width: 100%');\n",
       "    this.root.append(nav_element);\n",
       "\n",
       "    // Define a callback function for later on.\n",
       "    function toolbar_event(event) {\n",
       "        return fig.toolbar_button_onclick(event['data']);\n",
       "    }\n",
       "    function toolbar_mouse_event(event) {\n",
       "        return fig.toolbar_button_onmouseover(event['data']);\n",
       "    }\n",
       "\n",
       "    for(var toolbar_ind in mpl.toolbar_items){\n",
       "        var name = mpl.toolbar_items[toolbar_ind][0];\n",
       "        var tooltip = mpl.toolbar_items[toolbar_ind][1];\n",
       "        var image = mpl.toolbar_items[toolbar_ind][2];\n",
       "        var method_name = mpl.toolbar_items[toolbar_ind][3];\n",
       "\n",
       "        if (!name) { continue; };\n",
       "\n",
       "        var button = $('<button class=\"btn btn-default\" href=\"#\" title=\"' + name + '\"><i class=\"fa ' + image + ' fa-lg\"></i></button>');\n",
       "        button.click(method_name, toolbar_event);\n",
       "        button.mouseover(tooltip, toolbar_mouse_event);\n",
       "        nav_element.append(button);\n",
       "    }\n",
       "\n",
       "    // Add the status bar.\n",
       "    var status_bar = $('<span class=\"mpl-message\" style=\"text-align:right; float: right;\"/>');\n",
       "    nav_element.append(status_bar);\n",
       "    this.message = status_bar[0];\n",
       "\n",
       "    // Add the close button to the window.\n",
       "    var buttongrp = $('<div class=\"btn-group inline pull-right\"></div>');\n",
       "    var button = $('<button class=\"btn btn-mini btn-primary\" href=\"#\" title=\"Stop Interaction\"><i class=\"fa fa-power-off icon-remove icon-large\"></i></button>');\n",
       "    button.click(function (evt) { fig.handle_close(fig, {}); } );\n",
       "    button.mouseover('Stop Interaction', toolbar_mouse_event);\n",
       "    buttongrp.append(button);\n",
       "    var titlebar = this.root.find($('.ui-dialog-titlebar'));\n",
       "    titlebar.prepend(buttongrp);\n",
       "}\n",
       "\n",
       "mpl.figure.prototype._root_extra_style = function(el){\n",
       "    var fig = this\n",
       "    el.on(\"remove\", function(){\n",
       "\tfig.close_ws(fig, {});\n",
       "    });\n",
       "}\n",
       "\n",
       "mpl.figure.prototype._canvas_extra_style = function(el){\n",
       "    // this is important to make the div 'focusable\n",
       "    el.attr('tabindex', 0)\n",
       "    // reach out to IPython and tell the keyboard manager to turn it's self\n",
       "    // off when our div gets focus\n",
       "\n",
       "    // location in version 3\n",
       "    if (IPython.notebook.keyboard_manager) {\n",
       "        IPython.notebook.keyboard_manager.register_events(el);\n",
       "    }\n",
       "    else {\n",
       "        // location in version 2\n",
       "        IPython.keyboard_manager.register_events(el);\n",
       "    }\n",
       "\n",
       "}\n",
       "\n",
       "mpl.figure.prototype._key_event_extra = function(event, name) {\n",
       "    var manager = IPython.notebook.keyboard_manager;\n",
       "    if (!manager)\n",
       "        manager = IPython.keyboard_manager;\n",
       "\n",
       "    // Check for shift+enter\n",
       "    if (event.shiftKey && event.which == 13) {\n",
       "        this.canvas_div.blur();\n",
       "        // select the cell after this one\n",
       "        var index = IPython.notebook.find_cell_index(this.cell_info[0]);\n",
       "        IPython.notebook.select(index + 1);\n",
       "    }\n",
       "}\n",
       "\n",
       "mpl.figure.prototype.handle_save = function(fig, msg) {\n",
       "    fig.ondownload(fig, null);\n",
       "}\n",
       "\n",
       "\n",
       "mpl.find_output_cell = function(html_output) {\n",
       "    // Return the cell and output element which can be found *uniquely* in the notebook.\n",
       "    // Note - this is a bit hacky, but it is done because the \"notebook_saving.Notebook\"\n",
       "    // IPython event is triggered only after the cells have been serialised, which for\n",
       "    // our purposes (turning an active figure into a static one), is too late.\n",
       "    var cells = IPython.notebook.get_cells();\n",
       "    var ncells = cells.length;\n",
       "    for (var i=0; i<ncells; i++) {\n",
       "        var cell = cells[i];\n",
       "        if (cell.cell_type === 'code'){\n",
       "            for (var j=0; j<cell.output_area.outputs.length; j++) {\n",
       "                var data = cell.output_area.outputs[j];\n",
       "                if (data.data) {\n",
       "                    // IPython >= 3 moved mimebundle to data attribute of output\n",
       "                    data = data.data;\n",
       "                }\n",
       "                if (data['text/html'] == html_output) {\n",
       "                    return [cell, data, j];\n",
       "                }\n",
       "            }\n",
       "        }\n",
       "    }\n",
       "}\n",
       "\n",
       "// Register the function which deals with the matplotlib target/channel.\n",
       "// The kernel may be null if the page has been refreshed.\n",
       "if (IPython.notebook.kernel != null) {\n",
       "    IPython.notebook.kernel.comm_manager.register_target('matplotlib', mpl.mpl_figure_comm);\n",
       "}\n"
      ],
      "text/plain": [
       "<IPython.core.display.Javascript object>"
      ]
     },
     "metadata": {},
     "output_type": "display_data"
    },
    {
     "data": {
      "text/html": [
       "<img src=\"data:image/png;base64,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\" width=\"432\">"
      ],
      "text/plain": [
       "<IPython.core.display.HTML object>"
      ]
     },
     "metadata": {},
     "output_type": "display_data"
    }
   ],
   "source": [
    "plot_2d_vectors(ls)"
   ]
  },
  {
   "cell_type": "markdown",
   "metadata": {
    "colab_type": "text",
    "id": "mYV87zCbt0_6"
   },
   "source": [
    "* Orthoganal is a nother word for perpendicular"
   ]
  },
  {
   "cell_type": "markdown",
   "metadata": {
    "colab_type": "text",
    "id": "7AS4V1Nhvvxz"
   },
   "source": [
    "## 2.2 Are the following vectors orthogonal? Why or why not?\n",
    "\n",
    "\\begin{align}\n",
    "a = \\begin{bmatrix} -5 \\\\ 3 \\\\ 7 \\end{bmatrix}\n",
    "\\qquad\n",
    "b = \\begin{bmatrix} 6 \\\\ -8 \\\\ 2 \\end{bmatrix}\n",
    "\\end{align}"
   ]
  },
  {
   "cell_type": "code",
   "execution_count": 24,
   "metadata": {
    "colab": {},
    "colab_type": "code",
    "id": "F_-y54YSz47k"
   },
   "outputs": [],
   "source": [
    "a = np.array([-5,3,7])\n",
    "\n",
    "b = np.array([6,-8,2])"
   ]
  },
  {
   "cell_type": "code",
   "execution_count": 25,
   "metadata": {
    "colab": {
     "base_uri": "https://localhost:8080/",
     "height": 35
    },
    "colab_type": "code",
    "id": "WoGh4K58txPs",
    "outputId": "f2ba79f9-3e32-4a76-d542-6bc87f47a85b"
   },
   "outputs": [
    {
     "data": {
      "text/plain": [
       "-40"
      ]
     },
     "execution_count": 25,
     "metadata": {},
     "output_type": "execute_result"
    }
   ],
   "source": [
    "np.dot(a,b)"
   ]
  },
  {
   "cell_type": "markdown",
   "metadata": {
    "colab_type": "text",
    "id": "spla2UvOt43B"
   },
   "source": [
    "These vectors are not ortogonal. Their dot products do not equal $0$"
   ]
  },
  {
   "cell_type": "markdown",
   "metadata": {
    "colab_type": "text",
    "id": "MiNjyqiEz5SG"
   },
   "source": [
    "## 2.3 Compute the following values: What do these quantities have in common?\n",
    "\n",
    "## What is $||c||^2$? \n",
    "\n",
    "## What is $c \\cdot c$? \n",
    "\n",
    "## What is $c^{T}c$?\n",
    "\n",
    "\\begin{align}\n",
    "c = \\begin{bmatrix} 2 & -15 & 6 & 20 \\end{bmatrix}\n",
    "\\end{align}"
   ]
  },
  {
   "cell_type": "code",
   "execution_count": 26,
   "metadata": {
    "colab": {},
    "colab_type": "code",
    "id": "IlV_uaYK1EQB"
   },
   "outputs": [],
   "source": [
    "c = np.array(\n",
    "              [2,-15,6,20]\n",
    ")"
   ]
  },
  {
   "cell_type": "code",
   "execution_count": 27,
   "metadata": {
    "colab": {
     "base_uri": "https://localhost:8080/",
     "height": 35
    },
    "colab_type": "code",
    "id": "eTgJukncuF3N",
    "outputId": "7086c0d9-47b6-4692-b6fe-14c4786ce259"
   },
   "outputs": [
    {
     "data": {
      "text/plain": [
       "665.0"
      ]
     },
     "execution_count": 27,
     "metadata": {},
     "output_type": "execute_result"
    }
   ],
   "source": [
    "np.linalg.norm(c)**2"
   ]
  },
  {
   "cell_type": "code",
   "execution_count": 28,
   "metadata": {
    "colab": {
     "base_uri": "https://localhost:8080/",
     "height": 35
    },
    "colab_type": "code",
    "id": "ax9nhRC8uLm6",
    "outputId": "a7e9a214-0d51-4432-e641-80a0436a09d7"
   },
   "outputs": [
    {
     "data": {
      "text/plain": [
       "665"
      ]
     },
     "execution_count": 28,
     "metadata": {},
     "output_type": "execute_result"
    }
   ],
   "source": [
    "np.dot(c,c)"
   ]
  },
  {
   "cell_type": "code",
   "execution_count": 29,
   "metadata": {
    "colab": {
     "base_uri": "https://localhost:8080/",
     "height": 35
    },
    "colab_type": "code",
    "id": "tg88QjM1uyln",
    "outputId": "64ae54be-f2f4-4db9-9e18-a4577132d41f"
   },
   "outputs": [
    {
     "data": {
      "text/plain": [
       "665"
      ]
     },
     "execution_count": 29,
     "metadata": {},
     "output_type": "execute_result"
    }
   ],
   "source": [
    "np.matmul(c.T, c)"
   ]
  },
  {
   "cell_type": "markdown",
   "metadata": {},
   "source": [
    "The values are equal"
   ]
  },
  {
   "cell_type": "markdown",
   "metadata": {
    "colab_type": "text",
    "id": "MK_TpWqk1Evk"
   },
   "source": [
    "# Unit Vectors"
   ]
  },
  {
   "cell_type": "markdown",
   "metadata": {
    "colab_type": "text",
    "id": "Kpit6WWO1b8l"
   },
   "source": [
    "## 3.1 Using Latex, write the following vectors as a linear combination of scalars and unit vectors:\n",
    "\n",
    "\\begin{align}\n",
    "d = \\begin{bmatrix} 7 \\\\ 12 \\end{bmatrix}\n",
    "\\qquad\n",
    "e = \\begin{bmatrix} 2 \\\\ 11 \\\\ -8  \\end{bmatrix}\n",
    "\\end{align}"
   ]
  },
  {
   "cell_type": "markdown",
   "metadata": {
    "colab_type": "text",
    "id": "oBCj1sDW2ouC"
   },
   "source": [
    "$$d = 7\\hat{i} + 12\\hat{j}$$\n",
    "\n",
    "$$e = 2\\hat{i} + 11\\hat{j} -8\\hat{k}$$"
   ]
  },
  {
   "cell_type": "markdown",
   "metadata": {
    "colab_type": "text",
    "id": "dAdUQuep1_yJ"
   },
   "source": [
    "## 3.2 Turn vector $f$ into a unit vector:\n",
    "\n",
    "\\begin{align}\n",
    "f = \\begin{bmatrix} 4 & 12 & 11 & 9 & 2 \\end{bmatrix}\n",
    "\\end{align}"
   ]
  },
  {
   "cell_type": "code",
   "execution_count": 43,
   "metadata": {
    "colab": {},
    "colab_type": "code",
    "id": "I3W8ZiHR1_Fa"
   },
   "outputs": [
    {
     "name": "stdout",
     "output_type": "stream",
     "text": [
      "The unit vector in the direction of f, or f_hat, is \n",
      "[0.209 0.627 0.575 0.47  0.105]\n"
     ]
    }
   ],
   "source": [
    "f = np.array([4,12,11,9,2])\n",
    "f_norm = np.linalg.norm(f)\n",
    "print(f'The unit vector in the direction of f, or f_hat, is \\n{(f/f_norm).round(3)}')"
   ]
  },
  {
   "cell_type": "markdown",
   "metadata": {},
   "source": [
    "$$\\hat{f} = 0.209\\hat{x}_1 + 0.627\\hat{x}_2 + 0.575\\hat{x}_3 + 0.470\\hat{x}_4 + 0.105\\hat{x}_5$$"
   ]
  },
  {
   "cell_type": "markdown",
   "metadata": {},
   "source": [
    "\n",
    "# Linear Independence / Dependence "
   ]
  },
  {
   "cell_type": "markdown",
   "metadata": {
    "colab_type": "text",
    "id": "ajfBqYe45sT5"
   },
   "source": [
    "## 4.1 Plot two vectors that are linearly dependent and two vectors that are linearly independent (bonus points if done in $\\mathbb{R}^3$)."
   ]
  },
  {
   "cell_type": "markdown",
   "metadata": {
    "colab_type": "text",
    "id": "TrJ0MT_n3SvO"
   },
   "source": [
    "# Span"
   ]
  },
  {
   "cell_type": "markdown",
   "metadata": {
    "colab_type": "text",
    "id": "86iXLzwM2z8l"
   },
   "source": [
    "## 5.1 What is the span of the following vectors?\n",
    "\n",
    "\\begin{align}\n",
    "g = \\begin{bmatrix} 1 & 2 \\end{bmatrix}\n",
    "\\qquad\n",
    "h = \\begin{bmatrix} 4 & 8 \\end{bmatrix}\n",
    "\\end{align}"
   ]
  },
  {
   "cell_type": "code",
   "execution_count": null,
   "metadata": {
    "colab": {},
    "colab_type": "code",
    "id": "G2LK2RWL39Q4"
   },
   "outputs": [],
   "source": []
  },
  {
   "cell_type": "markdown",
   "metadata": {
    "colab_type": "text",
    "id": "l1deylUj4IHH"
   },
   "source": [
    "## 5.2 What is the span of $\\{l, m, n\\}$?\n",
    "\n",
    "\\begin{align}\n",
    "l = \\begin{bmatrix} 1 & 2 & 3 \\end{bmatrix}\n",
    "\\qquad\n",
    "m = \\begin{bmatrix} -1 & 0 & 7 \\end{bmatrix}\n",
    "\\qquad\n",
    "n = \\begin{bmatrix} 4 & 8  & 2\\end{bmatrix}\n",
    "\\end{align}"
   ]
  },
  {
   "cell_type": "code",
   "execution_count": null,
   "metadata": {
    "colab": {},
    "colab_type": "code",
    "id": "p1i_ueD25ZcP"
   },
   "outputs": [],
   "source": []
  },
  {
   "cell_type": "markdown",
   "metadata": {
    "colab_type": "text",
    "id": "IBqe7X1732kX"
   },
   "source": [
    "# Basis"
   ]
  },
  {
   "cell_type": "markdown",
   "metadata": {
    "colab_type": "text",
    "id": "YeUZVHRM6PpT"
   },
   "source": [
    "## 6.1 Graph two vectors that form a basis for $\\mathbb{R}^2$\n",
    "\n"
   ]
  },
  {
   "cell_type": "code",
   "execution_count": null,
   "metadata": {
    "colab": {},
    "colab_type": "code",
    "id": "utvF3Pkt8NP6"
   },
   "outputs": [],
   "source": []
  },
  {
   "cell_type": "markdown",
   "metadata": {
    "colab_type": "text",
    "id": "20yPFBDUxxnS"
   },
   "source": [
    "## 6.2 What does it mean to form a basis?"
   ]
  },
  {
   "cell_type": "markdown",
   "metadata": {
    "colab_type": "text",
    "id": "3w4tEayT8M0o"
   },
   "source": []
  },
  {
   "cell_type": "markdown",
   "metadata": {
    "colab_type": "text",
    "id": "EHmUxbcY6vD3"
   },
   "source": [
    "# Rank"
   ]
  },
  {
   "cell_type": "markdown",
   "metadata": {
    "colab_type": "text",
    "id": "IpJwt9kw6v8U"
   },
   "source": [
    "## 7.1 What is the Rank of P?\n",
    "\n",
    "\\begin{align}\n",
    "P = \\begin{bmatrix} \n",
    "1 & 2 & 3 \\\\\n",
    " -1 & 0 & 7 \\\\\n",
    "4 & 8  & 2\n",
    "\\end{bmatrix}\n",
    "\\end{align}"
   ]
  },
  {
   "cell_type": "markdown",
   "metadata": {
    "colab_type": "text",
    "id": "jGqFMBYY7mHD"
   },
   "source": [
    "## 7.2 What does the rank of a matrix tell us?"
   ]
  },
  {
   "cell_type": "markdown",
   "metadata": {
    "colab_type": "text",
    "id": "Vjg1IiCD8nnP"
   },
   "source": []
  },
  {
   "cell_type": "markdown",
   "metadata": {
    "colab_type": "text",
    "id": "0Db2sc_V8QD6"
   },
   "source": [
    "# Linear Projections\n",
    "\n",
    "## 8.1 Line $L$ is formed by all of the vectors that can be created by scaling vector $v$ \n",
    "\\begin{align}\n",
    "v = \\begin{bmatrix} 1 & 3 \\end{bmatrix}\n",
    "\\end{align}\n",
    "\n",
    "\\begin{align}\n",
    "w = \\begin{bmatrix} -1 & 2 \\end{bmatrix}\n",
    "\\end{align}\n",
    "\n",
    "## find $proj_{L}(w)$\n",
    "\n",
    "## graph your projected vector to check your work (make sure your axis are square/even)"
   ]
  },
  {
   "cell_type": "code",
   "execution_count": null,
   "metadata": {
    "colab": {},
    "colab_type": "code",
    "id": "hp5z2WTBCNKx"
   },
   "outputs": [],
   "source": []
  },
  {
   "cell_type": "markdown",
   "metadata": {
    "colab_type": "text",
    "id": "TKkrPwRM-Oar"
   },
   "source": [
    "# Stretch Goal\n",
    "\n",
    "## For vectors that begin at the origin, the coordinates of where the vector ends can be interpreted as regular data points. (See 3Blue1Brown videos about Spans, Basis, etc.)\n",
    "\n",
    "## Write a function that can calculate the linear projection of each point (x,y) (vector) onto the line y=x. run the function and plot the original points in blue and the new projected points on the line y=x in red. \n",
    "\n",
    "## For extra points plot the orthogonal vectors as a dashed line from the original blue points to the projected red points."
   ]
  },
  {
   "cell_type": "code",
   "execution_count": 30,
   "metadata": {
    "colab": {},
    "colab_type": "code",
    "id": "cp52kZra-ykj"
   },
   "outputs": [
    {
     "data": {
      "image/png": "[encoded data removed]",
      "text/plain": [
       "<Figure size 432x288 with 1 Axes>"
      ]
     },
     "metadata": {
      "needs_background": "light"
     },
     "output_type": "display_data"
    }
   ],
   "source": [
    "import pandas as pd\n",
    "import matplotlib.pyplot as plt\n",
    "\n",
    "# Creating a dataframe for you to work with -Feel free to not use the dataframe if you don't want to.\n",
    "x_values = [1, 4, 7, 3, 9, 4, 5 ]\n",
    "y_values = [4, 2, 5, 0, 8, 2, 8]\n",
    "\n",
    "data = {\"x\": x_values, \"y\": y_values}\n",
    "\n",
    "df = pd.DataFrame(data)\n",
    "\n",
    "df.head()\n",
    "\n",
    "plt.scatter(df.x, df.y)\n",
    "plt.show()"
   ]
  },
  {
   "cell_type": "code",
   "execution_count": null,
   "metadata": {
    "colab": {},
    "colab_type": "code",
    "id": "EZTA6Tj6BGDb"
   },
   "outputs": [],
   "source": []
  }
 ],
 "metadata": {
  "colab": {
   "collapsed_sections": [],
   "name": "LS_DS_132_Intermediate_Linear_Algebra_Assignment.ipynb",
   "provenance": []
  },
  "kernelspec": {
   "display_name": "Python 3",
   "language": "python",
   "name": "python3"
  },
  "language_info": {
   "codemirror_mode": {
    "name": "ipython",
    "version": 3
   },
   "file_extension": ".py",
   "mimetype": "text/x-python",
   "name": "python",
   "nbconvert_exporter": "python",
   "pygments_lexer": "ipython3",
   "version": "3.7.6"
  }
 },
 "nbformat": 4,
 "nbformat_minor": 1
}
